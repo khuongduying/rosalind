{
  "nbformat": 4,
  "nbformat_minor": 0,
  "metadata": {
    "colab": {
      "provenance": [],
      "authorship_tag": "ABX9TyNcUWg+hDRa7POvCReorGSu",
      "include_colab_link": true
    },
    "kernelspec": {
      "name": "python3",
      "display_name": "Python 3"
    },
    "language_info": {
      "name": "python"
    }
  },
  "cells": [
    {
      "cell_type": "markdown",
      "metadata": {
        "id": "view-in-github",
        "colab_type": "text"
      },
      "source": [
        "<a href=\"https://colab.research.google.com/github/khuongduying/rosalind/blob/main/Complementing_DNA_strand_REVC.ipynb\" target=\"_parent\"><img src=\"https://colab.research.google.com/assets/colab-badge.svg\" alt=\"Open In Colab\"/></a>"
      ]
    },
    {
      "cell_type": "markdown",
      "source": [
        "\n",
        "## Problem"
      ],
      "metadata": {
        "id": "UT4Zr_n2QbDg"
      }
    },
    {
      "cell_type": "markdown",
      "source": [
        "In DNA strings, symbols 'A' and 'T' are complements of each other, as are 'C' and 'G'.\n",
        "\n",
        "The reverse complement of a DNA string s\n",
        " is the string sc\n",
        " formed by reversing the symbols of s\n",
        ", then taking the complement of each symbol (e.g., the reverse complement of \"GTCA\" is \"TGAC\")."
      ],
      "metadata": {
        "id": "hC9krNpmQ5nF"
      }
    },
    {
      "cell_type": "markdown",
      "source": [
        "> __Given__: A DNA string s of length at most 1000 bp.\n",
        "\n",
        "> __Return__: The reverse complement s^c of s."
      ],
      "metadata": {
        "id": "-8-cGIjAQ4Fp"
      }
    },
    {
      "cell_type": "markdown",
      "source": [
        "### Sample Dataset"
      ],
      "metadata": {
        "id": "YY7-ufe5RV6I"
      }
    },
    {
      "cell_type": "markdown",
      "source": [
        ">AAAACCCGGT"
      ],
      "metadata": {
        "id": "FoRgNo8CRab7"
      }
    },
    {
      "cell_type": "markdown",
      "source": [
        "### Sample Output"
      ],
      "metadata": {
        "id": "Ts1uGCPBRg_a"
      }
    },
    {
      "cell_type": "markdown",
      "source": [
        ">ACCGGGTTTT"
      ],
      "metadata": {
        "id": "5-c7ZH__RjQe"
      }
    },
    {
      "cell_type": "markdown",
      "source": [
        "## Solution"
      ],
      "metadata": {
        "id": "RPgTcY1eRoIM"
      }
    },
    {
      "cell_type": "code",
      "source": [
        "# String\n",
        "s = \"AAAACCCGGT\""
      ],
      "metadata": {
        "id": "sgilvVbPSCWX"
      },
      "execution_count": 26,
      "outputs": []
    },
    {
      "cell_type": "markdown",
      "source": [
        "### Dummy way"
      ],
      "metadata": {
        "id": "t9C48FxjuvHg"
      }
    },
    {
      "cell_type": "code",
      "source": [],
      "metadata": {
        "id": "9fqdvLPVSlZ3"
      },
      "execution_count": 92,
      "outputs": []
    },
    {
      "cell_type": "code",
      "source": [
        "# Complement\n",
        "def revcomp(str):\n",
        "  \"\"\"\n",
        "  Complement of a string.\n",
        "  \"\"\"\n",
        "  ls = list(str)\n",
        "  # Complement\n",
        "  for i in range(len(str)):\n",
        "    #print(ls[i])\n",
        "    if ls[i] == \"A\":\n",
        "      ls[i] = \"T\"\n",
        "    elif ls[i] == \"G\":\n",
        "      ls[i] = \"C\"\n",
        "    elif ls[i] == \"T\":\n",
        "      ls[i] = \"A\"\n",
        "    elif ls[i] == \"C\":\n",
        "      ls[i] = \"G\"\n",
        "  comp = ''.join(ls)\n",
        "\n",
        "  # Reverse\n",
        "  revcomp = comp[::-1]\n",
        "  print(revcomp)"
      ],
      "metadata": {
        "id": "8u13Utgtu4X0"
      },
      "execution_count": 122,
      "outputs": []
    },
    {
      "cell_type": "code",
      "source": [
        "revcomp(input())"
      ],
      "metadata": {
        "colab": {
          "base_uri": "https://localhost:8080/"
        },
        "id": "V9-Ij_h-ybjc",
        "outputId": "e70883a0-2385-42b0-e654-b713b8e3a29d"
      },
      "execution_count": 124,
      "outputs": [
        {
          "output_type": "stream",
          "name": "stdout",
          "text": [
            "CCAGTCGGAGGGAGGAGAAACTACTGTAAACTTCGCTAAATTGACCGATAATAGCCATCATATCGAGTCCGCAGCCTGCACTTAAGAGCGTAGTTTTAGCTTTGGGCCGAGGGTACATAGAAGGTTCGAAGTCCTTCCATCCCAGCACGACGTCGATTTTACAGCTGGTCGAAAGAACAGACATCCATCCTCTAGTTATAGCCTCGTGATCCCTCATGAGCGTCGATCTCTTAGATCTGGAGCAGCTATTTTAACAGATCTAGCGGGTTTGTCGCGGCGCGCTCGCCGCGTGATCCCTGGAACCCGATGAATGACTGAGTGACGTGTCAAGATGACGTTGTCCCGGACAACTCCAACTGACATAAGGTGAGGTCTGCGTTCTCGAGTCGCATTCTCTTTGTTATCCATGGTCTCTCACACTTCTATACGACTCAGGATCGCTGTCTACCCCAGGGCTTCCGACAACGAGCCGTTGCAACAAACGAGATCGATTATTTGGGGCTAAAACGTCAACAGTGTAACGCCTTGTAGAACAGCCAAGAAGTTCCTCGTCCTACGGCACGATCCAGGCCCTCCGTCACAAGTAAGACCTTACTGGTACCGTAGAGAACTCGAAATGGAGATTACTACCTCCTGTTCGGGTCTAACTTCGGGCAAATCTAATCACCCGGGATTACCGGAACTGTGGCGGGGTAGATGAGACCCGGCACGGATTTCTCATCAAGTTTGACTGTGAACTTCGCAATAGCATTATGCCCTCGTCTCTTAATGCTCCTAGGTCTAGGAACTGGTGATTAACTTGCCGGACGCTCTCCGCTTGATTACCCAATACGCCACTGGTATTGTAACCATTTAGCCTCCCATCTTGCCGTATAGAACATGAACTGCTTAACGGGTGGGGCACCCTACTG\n",
            "CAGTAGGGTGCCCCACCCGTTAAGCAGTTCATGTTCTATACGGCAAGATGGGAGGCTAAATGGTTACAATACCAGTGGCGTATTGGGTAATCAAGCGGAGAGCGTCCGGCAAGTTAATCACCAGTTCCTAGACCTAGGAGCATTAAGAGACGAGGGCATAATGCTATTGCGAAGTTCACAGTCAAACTTGATGAGAAATCCGTGCCGGGTCTCATCTACCCCGCCACAGTTCCGGTAATCCCGGGTGATTAGATTTGCCCGAAGTTAGACCCGAACAGGAGGTAGTAATCTCCATTTCGAGTTCTCTACGGTACCAGTAAGGTCTTACTTGTGACGGAGGGCCTGGATCGTGCCGTAGGACGAGGAACTTCTTGGCTGTTCTACAAGGCGTTACACTGTTGACGTTTTAGCCCCAAATAATCGATCTCGTTTGTTGCAACGGCTCGTTGTCGGAAGCCCTGGGGTAGACAGCGATCCTGAGTCGTATAGAAGTGTGAGAGACCATGGATAACAAAGAGAATGCGACTCGAGAACGCAGACCTCACCTTATGTCAGTTGGAGTTGTCCGGGACAACGTCATCTTGACACGTCACTCAGTCATTCATCGGGTTCCAGGGATCACGCGGCGAGCGCGCCGCGACAAACCCGCTAGATCTGTTAAAATAGCTGCTCCAGATCTAAGAGATCGACGCTCATGAGGGATCACGAGGCTATAACTAGAGGATGGATGTCTGTTCTTTCGACCAGCTGTAAAATCGACGTCGTGCTGGGATGGAAGGACTTCGAACCTTCTATGTACCCTCGGCCCAAAGCTAAAACTACGCTCTTAAGTGCAGGCTGCGGACTCGATATGATGGCTATTATCGGTCAATTTAGCGAAGTTTACAGTAGTTTCTCCTCCCTCCGACTGG\n"
          ]
        }
      ]
    },
    {
      "cell_type": "code",
      "source": [
        "def revcomp(str):\n",
        "  print(rev(comp(s)))"
      ],
      "metadata": {
        "id": "GQOdHEGewyTl"
      },
      "execution_count": 114,
      "outputs": []
    },
    {
      "cell_type": "code",
      "source": [
        "revcomp(s)"
      ],
      "metadata": {
        "colab": {
          "base_uri": "https://localhost:8080/",
          "height": 304
        },
        "id": "npjf27tNyCBe",
        "outputId": "cd0c9726-5b64-4ea1-8346-71e68845591d"
      },
      "execution_count": 115,
      "outputs": [
        {
          "output_type": "stream",
          "name": "stdout",
          "text": [
            "TTTTGGGCCA\n"
          ]
        },
        {
          "output_type": "error",
          "ename": "TypeError",
          "evalue": "object of type 'NoneType' has no len()",
          "traceback": [
            "\u001b[0;31m---------------------------------------------------------------------------\u001b[0m",
            "\u001b[0;31mTypeError\u001b[0m                                 Traceback (most recent call last)",
            "\u001b[0;32m<ipython-input-115-f164cef1c13e>\u001b[0m in \u001b[0;36m<cell line: 1>\u001b[0;34m()\u001b[0m\n\u001b[0;32m----> 1\u001b[0;31m \u001b[0mrevcomp\u001b[0m\u001b[0;34m(\u001b[0m\u001b[0ms\u001b[0m\u001b[0;34m)\u001b[0m\u001b[0;34m\u001b[0m\u001b[0;34m\u001b[0m\u001b[0m\n\u001b[0m",
            "\u001b[0;32m<ipython-input-114-5a232d35fe0d>\u001b[0m in \u001b[0;36mrevcomp\u001b[0;34m(str)\u001b[0m\n\u001b[1;32m      1\u001b[0m \u001b[0;32mdef\u001b[0m \u001b[0mrevcomp\u001b[0m\u001b[0;34m(\u001b[0m\u001b[0mstr\u001b[0m\u001b[0;34m)\u001b[0m\u001b[0;34m:\u001b[0m\u001b[0;34m\u001b[0m\u001b[0;34m\u001b[0m\u001b[0m\n\u001b[0;32m----> 2\u001b[0;31m   \u001b[0mprint\u001b[0m\u001b[0;34m(\u001b[0m\u001b[0mrev\u001b[0m\u001b[0;34m(\u001b[0m\u001b[0mcomp\u001b[0m\u001b[0;34m(\u001b[0m\u001b[0ms\u001b[0m\u001b[0;34m)\u001b[0m\u001b[0;34m)\u001b[0m\u001b[0;34m)\u001b[0m\u001b[0;34m\u001b[0m\u001b[0;34m\u001b[0m\u001b[0m\n\u001b[0m",
            "\u001b[0;32m<ipython-input-92-a3ae5a368310>\u001b[0m in \u001b[0;36mrev\u001b[0;34m(str)\u001b[0m\n\u001b[1;32m      5\u001b[0m   \"\"\"\n\u001b[1;32m      6\u001b[0m   \u001b[0mrev_list\u001b[0m \u001b[0;34m=\u001b[0m \u001b[0;34m[\u001b[0m\u001b[0;34m]\u001b[0m\u001b[0;34m\u001b[0m\u001b[0;34m\u001b[0m\u001b[0m\n\u001b[0;32m----> 7\u001b[0;31m   \u001b[0;32mfor\u001b[0m \u001b[0mi\u001b[0m \u001b[0;32min\u001b[0m \u001b[0mrange\u001b[0m\u001b[0;34m(\u001b[0m\u001b[0;34m-\u001b[0m\u001b[0;36m1\u001b[0m\u001b[0;34m,\u001b[0m \u001b[0;34m-\u001b[0m\u001b[0mlen\u001b[0m\u001b[0;34m(\u001b[0m\u001b[0mstr\u001b[0m\u001b[0;34m)\u001b[0m\u001b[0;34m-\u001b[0m\u001b[0;36m1\u001b[0m\u001b[0;34m,\u001b[0m \u001b[0;34m-\u001b[0m\u001b[0;36m1\u001b[0m\u001b[0;34m)\u001b[0m\u001b[0;34m:\u001b[0m\u001b[0;34m\u001b[0m\u001b[0;34m\u001b[0m\u001b[0m\n\u001b[0m\u001b[1;32m      8\u001b[0m     \u001b[0;31m#print(i)\u001b[0m\u001b[0;34m\u001b[0m\u001b[0;34m\u001b[0m\u001b[0m\n\u001b[1;32m      9\u001b[0m     \u001b[0mrev_list\u001b[0m\u001b[0;34m.\u001b[0m\u001b[0mappend\u001b[0m\u001b[0;34m(\u001b[0m\u001b[0ms\u001b[0m\u001b[0;34m[\u001b[0m\u001b[0mi\u001b[0m\u001b[0;34m]\u001b[0m\u001b[0;34m)\u001b[0m\u001b[0;34m\u001b[0m\u001b[0;34m\u001b[0m\u001b[0m\n",
            "\u001b[0;31mTypeError\u001b[0m: object of type 'NoneType' has no len()"
          ]
        }
      ]
    },
    {
      "cell_type": "code",
      "source": [
        "for i in range(len(s)):\n",
        "  print(i)"
      ],
      "metadata": {
        "colab": {
          "base_uri": "https://localhost:8080/"
        },
        "id": "50F0Zce5o2Yg",
        "outputId": "e1111c61-8667-41af-fe37-c3c29848f39b"
      },
      "execution_count": 91,
      "outputs": [
        {
          "output_type": "stream",
          "name": "stdout",
          "text": [
            "0\n",
            "1\n",
            "2\n",
            "3\n",
            "4\n",
            "5\n",
            "6\n",
            "7\n",
            "8\n",
            "9\n"
          ]
        }
      ]
    },
    {
      "cell_type": "code",
      "source": [
        "s[::-1]"
      ],
      "metadata": {
        "colab": {
          "base_uri": "https://localhost:8080/",
          "height": 35
        },
        "id": "KIq5zZlwosdZ",
        "outputId": "ac77de5d-cb16-4d03-a241-a5e61dcf43e0"
      },
      "execution_count": 85,
      "outputs": [
        {
          "output_type": "execute_result",
          "data": {
            "text/plain": [
              "'TGGCCCAAAA'"
            ],
            "application/vnd.google.colaboratory.intrinsic+json": {
              "type": "string"
            }
          },
          "metadata": {},
          "execution_count": 85
        }
      ]
    },
    {
      "cell_type": "code",
      "source": [
        "for i in range(-1, -len(s)-1, -1):\n",
        "  print(i)"
      ],
      "metadata": {
        "colab": {
          "base_uri": "https://localhost:8080/"
        },
        "id": "515JHVwWW24W",
        "outputId": "4ed916f6-a136-47f0-ab8c-f6647152858b"
      },
      "execution_count": 63,
      "outputs": [
        {
          "output_type": "stream",
          "name": "stdout",
          "text": [
            "-1\n",
            "-2\n",
            "-3\n",
            "-4\n",
            "-5\n",
            "-6\n",
            "-7\n",
            "-8\n",
            "-9\n",
            "-10\n"
          ]
        }
      ]
    }
  ]
}